{
 "cells": [
  {
   "cell_type": "code",
   "execution_count": 50,
   "metadata": {},
   "outputs": [],
   "source": [
    "import os\n",
    "f= open(\"mfile.md\",\"w+\")\n",
    "path = 'Algorithms'\n",
    "for root, directories, files in os.walk(path, topdown=True):\n",
    "    for name in files:\n",
    "        f.write(\"- [\" + name + \"](<https://github.com/moni-roy/Programming-codes-and-resources/tree/master/\"+os.path.join(root, name)+\">)\\n\")\n",
    "    f.write(\"----------------------\\n\")\n",
    "    \n",
    "    for name in directories:\n",
    "        f.write(\"- [\" + name + \"](<https://github.com/moni-roy/Programming-codes-and-resources/tree/master/\"+os.path.join(root, name)+\">)\\n\")\n",
    "    f.write(\"----------------------\\n\")"
   ]
  },
  {
   "cell_type": "code",
   "execution_count": null,
   "metadata": {},
   "outputs": [],
   "source": []
  }
 ],
 "metadata": {
  "kernelspec": {
   "display_name": "Python 3",
   "language": "python",
   "name": "python3"
  },
  "language_info": {
   "codemirror_mode": {
    "name": "ipython",
    "version": 3
   },
   "file_extension": ".py",
   "mimetype": "text/x-python",
   "name": "python",
   "nbconvert_exporter": "python",
   "pygments_lexer": "ipython3",
   "version": "3.8.5"
  }
 },
 "nbformat": 4,
 "nbformat_minor": 4
}
